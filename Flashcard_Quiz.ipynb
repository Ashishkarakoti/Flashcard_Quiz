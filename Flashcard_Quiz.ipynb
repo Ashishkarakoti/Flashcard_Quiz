{
 "cells": [
  {
   "cell_type": "markdown",
   "metadata": {},
   "source": [
    "Simple Flashcard Quiz"
   ]
  },
  {
   "cell_type": "code",
   "execution_count": 9,
   "metadata": {},
   "outputs": [
    {
     "name": "stdout",
     "output_type": "stream",
     "text": [
      "Welcome to the Flashcard Quiz!\n",
      "Type 'quit' to exit.\n",
      "Question: What is the largest animal on Earth?\n",
      "Incorrect. The correct answer is: Blue Whale\n",
      "\n",
      "Question: Who discovered penicillin?\n",
      "Incorrect. The correct answer is: Alexander Fleming\n",
      "\n",
      "Question: What is the main ingredient in guacamole?\n",
      "Incorrect. The correct answer is: Avocado\n",
      "\n",
      "Question: What is the capital of France?\n",
      "Correct!\n",
      "\n",
      "Question: What is the largest animal on Earth?\n",
      "Correct!\n",
      "\n",
      "Question: Who painted the Mona Lisa?\n",
      "Thanks for playing!\n"
     ]
    }
   ],
   "source": [
    "import random\n",
    "\n",
    "flashcards = {\n",
    "    \"What is the capital of France?\": \"Paris\",\n",
    "    \"What is the largest planet in our solar system?\": \"Jupiter\",\n",
    "    \"Who wrote 'Romeo and Juliet'?\": \"William Shakespeare\",\n",
    "    \"What is the powerhouse of the cell?\": \"Mitochondria\",\n",
    "    \"What is the chemical symbol for water?\": \"H2O\",\n",
    "    \"Who painted the Mona Lisa?\": \"Leonardo da Vinci\",\n",
    "    \"What is the largest ocean on Earth?\": \"Pacific Ocean\",\n",
    "    \"What year did the Titanic sink?\": \"1912\",\n",
    "    \"What is the capital of Japan?\": \"Tokyo\",\n",
    "    \"What is the highest mountain in the world?\": \"Mount Everest\",\n",
    "    \"Who discovered penicillin?\": \"Alexander Fleming\",\n",
    "    \"What is the freezing point of water in Celsius?\": \"0 degrees\",\n",
    "    \"What is the symbol for gold on the periodic table?\": \"Au\",\n",
    "    \"Who is known as the father of modern physics?\": \"Albert Einstein\",\n",
    "    \"What is the currency of Japan?\": \"Yen\",\n",
    "    \"Who wrote 'To Kill a Mockingbird'?\": \"Harper Lee\",\n",
    "    \"What is the largest animal on Earth?\": \"Blue Whale\",\n",
    "    \"What is the tallest mammal?\": \"Giraffe\",\n",
    "    \"What is the main ingredient in guacamole?\": \"Avocado\",\n",
    "}\n",
    "\n",
    "# Function to display a random question and get user input\n",
    "def display_question():\n",
    "    question = random.choice(list(flashcards.keys()))\n",
    "    print(\"Question:\", question)\n",
    "    user_answer = input(\"Your answer: \")\n",
    "    user_answer = ' '.join(word.capitalize() for word in user_answer.split())\n",
    "    correct_answer = flashcards[question]\n",
    "    return user_answer, correct_answer\n",
    "\n",
    "# Function to check the user's answer and display the correct answer\n",
    "def check_answer(user_answer, correct_answer):\n",
    "    if user_answer == correct_answer:\n",
    "        print(\"Correct!\")\n",
    "    else:\n",
    "        print(\"Incorrect. The correct answer is:\", correct_answer)\n",
    "\n",
    "# Main function to run the flashcard quiz\n",
    "def main():\n",
    "    print(\"Welcome to the Flashcard Quiz!\")\n",
    "    print(\"Type 'quit' to exit.\")\n",
    "    while True:\n",
    "        user_answer, correct_answer = display_question()\n",
    "        if user_answer.lower() == 'quit':\n",
    "            print(\"Thanks for playing!\")\n",
    "            break\n",
    "        check_answer(user_answer, correct_answer)\n",
    "        print()\n",
    "\n",
    "if __name__ == \"__main__\":\n",
    "    main()"
   ]
  },
  {
   "cell_type": "code",
   "execution_count": null,
   "metadata": {},
   "outputs": [],
   "source": []
  }
 ],
 "metadata": {
  "kernelspec": {
   "display_name": "Python 3",
   "language": "python",
   "name": "python3"
  },
  "language_info": {
   "codemirror_mode": {
    "name": "ipython",
    "version": 3
   },
   "file_extension": ".py",
   "mimetype": "text/x-python",
   "name": "python",
   "nbconvert_exporter": "python",
   "pygments_lexer": "ipython3",
   "version": "3.12.2"
  }
 },
 "nbformat": 4,
 "nbformat_minor": 2
}
